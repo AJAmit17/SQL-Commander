{
 "cells": [
  {
   "cell_type": "code",
   "execution_count": 37,
   "metadata": {},
   "outputs": [],
   "source": [
    "import os\n",
    "import sqlite3\n",
    "import dotenv\n",
    "import streamlit as st\n",
    "import google.generativeai as genai\n",
    "\n",
    "dotenv.load_dotenv()\n",
    "\n",
    "import google.generativeai as genai \n",
    "\n",
    "genai.configure(api_key=os.getenv(\"GOOGLE_GEMINI_API_KEY\"))"
   ]
  },
  {
   "cell_type": "code",
   "execution_count": 38,
   "metadata": {},
   "outputs": [],
   "source": [
    "def getQuery(prompt,question):\n",
    "    model = genai.GenerativeModel(\"gemini-pro\")\n",
    "    response = model.generate_content([prompt[0],question])\n",
    "    \n",
    "    return response.text"
   ]
  },
  {
   "cell_type": "code",
   "execution_count": 39,
   "metadata": {},
   "outputs": [],
   "source": [
    "# prompt = \"Give me simple plain text table creation sql queries which is directly used for sql execution , ignore backticks(```) ans sql keyword in output\""
   ]
  },
  {
   "cell_type": "code",
   "execution_count": 40,
   "metadata": {},
   "outputs": [],
   "source": [
    "prompt = [\n",
    "'''\n",
    "**Prompt:**\n",
    "Develop a Python script that generates SQL queries for creating and populating a database table named `G_SAILORS`. The script should take user-provided column definitions in the format: `COLUMN1, COLUMN2, COLUMN3, ...` and output corresponding SQL commands.\n",
    "\n",
    "**Example Input:**\n",
    "G_SAILORS(SID, SNAME, RATING, AGE)\n",
    "\n",
    "**Expected Output:**\n",
    "```sql\n",
    "CREATE TABLE G_SAILORS (\n",
    "    sid INT PRIMARY KEY,\n",
    "    sname VARCHAR(20) NOT NULL,\n",
    "    rating VARCHAR(10) NOT NULL,\n",
    "    age INT NOT NULL\n",
    ");\n",
    "\n",
    "INSERT INTO G_SAILORS (sid, sname, rating, age) VALUES (22, 'Dustin Howell', 'SA', 25);\n",
    "INSERT INTO G_SAILORS (sid, sname, rating, age) VALUES (85, 'Hannah Howard', 'SA', 22);\n",
    "INSERT INTO G_SAILORS (sid, sname, rating, age) VALUES (31, 'Dylan Shaw', 'SA', 20);\n",
    "INSERT INTO G_SAILORS (sid, sname, rating, age) VALUES (58, 'Sophia Douglas', 'SA', 28);\n",
    "INSERT INTO G_SAILORS (sid, sname, rating, age) VALUES (37, 'Emma Watson', 'SA', 25);\n",
    "INSERT INTO G_SAILORS (sid, sname, rating, age) VALUES (89, 'Jackson Reed', 'SA', 30);\n",
    "INSERT INTO G_SAILORS (sid, sname, rating, age) VALUES (62, 'Samuel Walsh', 'SA', 19);\n",
    "INSERT INTO G_SAILORS (sid, sname, rating, age) VALUES (28, 'Abigail Bennett', 'SA', 22);\n",
    "INSERT INTO G_SAILORS (sid, sname, rating, age) VALUES (79, 'Harper Martinez', 'SA', 22);\n",
    "INSERT INTO G_SAILORS (sid, sname, rating, age) VALUES (7, 'Alexander Moore', 'SA', 24);\n",
    "INSERT INTO G_SAILORS (sid, sname, rating, age) VALUES (49, 'Ava Johnson', 'SA', 21);\n",
    "INSERT INTO G_SAILORS (sid, sname, rating, age) VALUES (97, 'Isabella Garcia', 'SA', 23);\n",
    "INSERT INTO G_SAILORS (sid, sname, rating, age) VALUES (72, 'Liam Brown', 'SA', 18);\n",
    "INSERT INTO G_SAILORS (sid, sname, rating, age) VALUES (20, 'Elijah Martinez', 'SA', 25);\n",
    "INSERT INTO G_SAILORS (sid, sname, rating, age) VALUES (60, 'Amelia Rodriguez', 'SA', 23);\n",
    "INSERT INTO G_SAILORS (sid, sname, rating, age) VALUES (11, 'Sophia Martinez', 'SA', 32);\n",
    "INSERT INTO G_SAILORS (sid, sname, rating, age) VALUES (53, 'Gabriella Davis', 'SA', 28);\n",
    "INSERT INTO G_SAILORS (sid, sname, rating, age) VALUES (71, 'Benjamin Miller', 'SA', 31);\n",
    "INSERT INTO G_SAILORS (sid, sname, rating, age) VALUES (65, 'Audrey Moore', 'SA', 24);\n",
    "INSERT INTO G_SAILORS (sid, sname, rating, age) VALUES (42, 'William Jones', 'SA', 27);\n",
    "```\n",
    "\n",
    "**Instructions:**\n",
    "The output should only contain the generated SQL queries, without any triple backticks (` ``` `) at the beginning and end, and it should not include the word \"SQL\" in the output. The queries should be formatted correctly for creating and populating the specified table.'''\n",
    "]"
   ]
  },
  {
   "cell_type": "code",
   "execution_count": 41,
   "metadata": {},
   "outputs": [],
   "source": [
    "question = \"SAILORS (sid, sname, rating, age)\""
   ]
  },
  {
   "cell_type": "code",
   "execution_count": 44,
   "metadata": {},
   "outputs": [
    {
     "name": "stdout",
     "output_type": "stream",
     "text": [
      "```\n",
      "CREATE TABLE SAILORS (\n",
      "    sid INT PRIMARY KEY,\n",
      "    sname VARCHAR(25) NOT NULL,\n",
      "    rating VARCHAR(15) NOT NULL,\n",
      "    age INT NOT NULL\n",
      ");\n",
      "```\n",
      "\n",
      "The `SAILORS` table stores information about sailors, including their unique sailor ID (`sid`), name (`sname`), rating (`rating`), and age (`age`).\n",
      "\n",
      "Here's an example of how to insert data into the `SAILORS` table:\n",
      "\n",
      "```\n",
      "INSERT INTO SAILORS (sid, sname, rating, age) VALUES\n",
      "(22, 'Dustin Hoffman', 'Captain', 45),\n",
      "(88, 'Martin Sheen', 'Commander', 50),\n",
      "(31, 'Jack Nicholson', 'Lieutenant', 32),\n",
      "(55, 'Al Pacino', 'Lieutenant Commander', 37),\n",
      "(32, 'Diane Keaton', 'Ensign', 25),\n",
      "(19, 'Marlon Brando', 'Admiral', 60);\n",
      "```\n",
      "\n",
      "This will create six records in the `SAILORS` table.\n",
      "\n",
      "You can then query the `SAILORS` table to retrieve data about sailors. For example, the following query retrieves the names of all sailors who are 32 years old:\n",
      "\n",
      "```\n",
      "SELECT sname\n",
      "FROM SAILORS\n",
      "WHERE age = 32;\n",
      "```\n",
      "\n",
      "This query will return the following result:\n",
      "\n",
      "```\n",
      "Diane Keaton\n",
      "```\n"
     ]
    }
   ],
   "source": [
    "print(getQuery(prompt[0],question))"
   ]
  },
  {
   "cell_type": "code",
   "execution_count": 17,
   "metadata": {},
   "outputs": [],
   "source": [
    "def createTable(queries):\n",
    "    conn = sqlite3.connect('students.db')\n",
    "    cur = conn.cursor()\n",
    "\n",
    "    print(queries)\n",
    "    cur.execute(queries)\n",
    "    \n",
    "    conn.commit()\n",
    "    conn.close()"
   ]
  },
  {
   "cell_type": "code",
   "execution_count": 31,
   "metadata": {},
   "outputs": [],
   "source": [
    "def askquestion():\n",
    "    st.set_page_config(page_title=\"sql -> Database table\")\n",
    "    st.header(\"sql -> Database table\")\n",
    "\n",
    "    queries = st.text_input(\"Write SQL for tables and insert values: \", key=\"input\")\n",
    "    submit = st.button(\"Create the tables\")\n",
    "\n",
    "    if submit:\n",
    "        createTable(queries)"
   ]
  },
  {
   "cell_type": "code",
   "execution_count": 35,
   "metadata": {},
   "outputs": [],
   "source": [
    "import sqlite3\n",
    "\n",
    "def execute_sql_queries():\n",
    "    # Connect to an in-memory SQLite database\n",
    "    conn = sqlite3.connect('chatgpt.db')\n",
    "    cursor = conn.cursor()\n",
    "\n",
    "    # Execute the SQL queries\n",
    "    sql_queries = \"\"\"\n",
    "    CREATE TABLE G_SAILORS (\n",
    "        sid INT PRIMARY KEY,\n",
    "        sname VARCHAR(20) NOT NULL,\n",
    "        rating VARCHAR(10) NOT NULL,\n",
    "        age INT NOT NULL\n",
    "    );\n",
    "    INSERT INTO G_SAILORS (sid, sname, rating, age) VALUES (22, 'Dustin Howell', 'SA', 25);\n",
    "    INSERT INTO G_SAILORS (sid, sname, rating, age) VALUES (85, 'Hannah Howard', 'SA', 22);\n",
    "    INSERT INTO G_SAILORS (sid, sname, rating, age) VALUES (31, 'Dylan Shaw', 'SA', 20);\n",
    "    INSERT INTO G_SAILORS (sid, sname, rating, age) VALUES (58, 'Sophia Douglas', 'SA', 28);\n",
    "    INSERT INTO G_SAILORS (sid, sname, rating, age) VALUES (37, 'Emma Watson', 'SA', 25);\n",
    "    INSERT INTO G_SAILORS (sid, sname, rating, age) VALUES (89, 'Jackson Reed', 'SA', 30);\n",
    "    INSERT INTO G_SAILORS (sid, sname, rating, age) VALUES (62, 'Samuel Walsh', 'SA', 19);\n",
    "    INSERT INTO G_SAILORS (sid, sname, rating, age) VALUES (28, 'Abigail Bennett', 'SA', 22);\n",
    "    INSERT INTO G_SAILORS (sid, sname, rating, age) VALUES (79, 'Harper Martinez', 'SA', 22);\n",
    "    INSERT INTO G_SAILORS (sid, sname, rating, age) VALUES (7, 'Alexander Moore', 'SA', 24);\n",
    "    INSERT INTO G_SAILORS (sid, sname, rating, age) VALUES (49, 'Ava Johnson', 'SA', 21);\n",
    "    INSERT INTO G_SAILORS (sid, sname, rating, age) VALUES (97, 'Isabella Garcia', 'SA', 23);\n",
    "    INSERT INTO G_SAILORS (sid, sname, rating, age) VALUES (72, 'Liam Brown', 'SA', 18);\n",
    "    INSERT INTO G_SAILORS (sid, sname, rating, age) VALUES (20, 'Elijah Martinez', 'SA', 25);\n",
    "    INSERT INTO G_SAILORS (sid, sname, rating, age) VALUES (60, 'Amelia Rodriguez', 'SA', 23);\n",
    "    INSERT INTO G_SAILORS (sid, sname, rating, age) VALUES (11, 'Sophia Martinez', 'SA', 32);\n",
    "    INSERT INTO G_SAILORS (sid, sname, rating, age) VALUES (53, 'Gabriella Davis', 'SA', 28);\n",
    "    INSERT INTO G_SAILORS (sid, sname, rating, age) VALUES (71, 'Benjamin Miller', 'SA', 31);\n",
    "    INSERT INTO G_SAILORS (sid, sname, rating, age) VALUES (65, 'Audrey Moore', 'SA', 24);\n",
    "    INSERT INTO G_SAILORS (sid, sname, rating, age) VALUES (42, 'William Jones', 'SA', 27);\n",
    "    \"\"\"\n",
    "    cursor.executescript(sql_queries)\n",
    "\n",
    "    # Commit and close the connection\n",
    "    conn.commit()\n",
    "    conn.close()\n",
    "\n",
    "# Call the function to execute SQL queries\n",
    "execute_sql_queries()"
   ]
  },
  {
   "cell_type": "code",
   "execution_count": null,
   "metadata": {},
   "outputs": [],
   "source": []
  }
 ],
 "metadata": {
  "kernelspec": {
   "display_name": "venv",
   "language": "python",
   "name": "python3"
  },
  "language_info": {
   "codemirror_mode": {
    "name": "ipython",
    "version": 3
   },
   "file_extension": ".py",
   "mimetype": "text/x-python",
   "name": "python",
   "nbconvert_exporter": "python",
   "pygments_lexer": "ipython3",
   "version": "3.12.1"
  }
 },
 "nbformat": 4,
 "nbformat_minor": 2
}
